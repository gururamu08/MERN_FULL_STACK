{
"cells": [
{
"cell_type": "markdown", "metadata": {}, "source": [ "# Predicting Depression Using Health Care Data"
]
}, {
"cell_type": "markdown", "metadata": {}, "source": [ "Author: Vivienne DiFrancesco\n"
]
}, {
"cell_type": "markdown", "metadata": {}, "source": [ "> - This notebook is a continuation of the project after the file titled \"first_notebook\""
]
}, {
"cell_type": "markdown", "metadata": {
"toc": true
}, {
"cell_type": "code", "execution_count": 78, "metadata": {
"ExecuteTime": {
"end_time": "2021-02-09T05:04:32.615239Z", "start_time": "2021-02-09T05:04:32.521238Z" }
}, "outputs": [], "source": [ "# Filling in the names of the values for the citizenship column\n", "demo_clean['citizenship'].replace({1.000:'Citizen', \n", " 2.000:'Not Citizen', \n", " 7.000:'Missing', \n", " 9.000:'Missing'}, \n", " inplace=True)\n", "# Filling null values as missing\n", "demo_clean['citizenship'].fillna('Missing', inplace=True)"
]
}, {
"cell_type": "code", "execution_count": 79, "metadata": {
"ExecuteTime": {
"end_time": "2021-02-09T05:04:33.123238Z", "start_time": "2021-02-09T05:04:33.026323Z" }
}, "outputs": [{}, "output_type": "execute_result" }
{
"data": {
"text/plain": [ "Citizen 62794\n", "Not Citizen 7257\n", "Missing 139\n", "Name: citizenship, dtype: int64"
]
}, "execution_count": 79, "metadata":
],"source": [ "# Checking column values\n", "demo_clean.citizenship.value_counts(dropna=False)"
]
}, {
"cell_type": "code", "execution_count": 80, "metadata": {
"ExecuteTime": {
"end_time": "2021-02-09T05:04:33.615317Z", "start_time": "2021-02-09T05:04:33.528295Z" }
}, "outputs": [], "source": [ "# Filling in the names of the values for the education level column\n", "demo_clean['education_level'].replace({7.000: 0, \n", " 9.000: 0}, \n", " inplace=True)\n", "\n", "# Filling null values and casting to int type\n", "demo_clean['education_level'].fillna(0, inplace=True)\n", "demo_clean['education_level'] = demo_clean['education_level'].astype('int64')"
]
}, {
"cell_type": "code", "execution_count": 81, "metadata": {
"ExecuteTime": {
"end_time": "2021-02-09T05:04:33.929237Z", "start_time": "2021-02-09T05:04:33.843357Z" }
}, "outputs": [
{
"data": {
"text/plain": [ "0 30502\n", "4 11561\n", "3 9102\n", "5 8935\n", "2 5708\n", "1 4382\n", "Name: education_level, dtype: int64"
]
}, "execution_count": 81, "metadata": {}, "output_type": "execute_result" }
],"source": [ "# Checking column values\n", "demo_clean.education_level.value_counts(dropna=False)"
]
}, {
"cell_type": "code", "execution_count": 82, "metadata": {
"ExecuteTime": {
"end_time": "2021-02-09T05:04:34.449347Z", "start_time": "2021-02-09T05:04:34.347271Z" }
}, "outputs": [], "source": [ "# Filling in the names of the values for the marital status column\n", "demo_clean['marital_status'].replace({1.000:'Married', \n", " 2.000:'Widowed', \n", " 3.000:'Divorced', \n", " 4.000:'Separated', \n",
" 5.000:'Never Married',\n", " 6.000:'Partner',\n", " 77.000:'Missing', \n", " 99.000:'Missing'}, \n", " inplace=True)\n", "# Filling null values as missing\n", "demo_clean['marital_status'].fillna('Missing', inplace=True)"
]
}, {
"cell_type": "code", "execution_count": 83, "metadata": {
"ExecuteTime": {
"end_time": "2021-02-09T05:04:34.935237Z", "start_time": "2021-02-09T05:04:34.844236Z" }
}, "outputs": [
{
"data": {
"text/plain": [ "Missing 28758\n", "Married 20284\n", "Never Married 8857\n", "Divorced 4292\n", "Widowed 3371\n", "Partner 3279\n", "Separated 1349\n", "Name: marital_status, dtype: int64"
]
}, "execution_count": 83, "metadata": {}, "output_type": "execute_result" }
],"source": [ "# Checking column values\n", "demo_clean.marital_status.value_counts(dropna=False)"
]
}, {
"cell_type": "code", "execution_count": 84, "metadata": {
"ExecuteTime": {
"end_time": "2021-02-09T05:04:35.434322Z", "start_time": "2021-02-09T05:04:35.351242Z" }
}, "outputs": [], "source": [ "# Casting household size column as int type\n", "demo_clean['household_size'] = demo_clean['household_size'].astype('int64')"
]
}, {
"cell_type": "code", "execution_count": 85, "metadata": {
"ExecuteTime": {
"end_time": "2021-02-09T05:04:35.956235Z", "start_time": "2021-02-09T05:04:35.864238Z" }
}, "outputs": [], "source": [ "# Filling in the names of the values for the pregnant column\n", "demo_clean['pregnant'].replace({1.000:'Yes', \n", " 2.000:'No', \n", " 3.000:'Missing'}, \n", " inplace=True)\n", "# Filling null values as missing\n", "demo_clean['pregnant'].fillna('Missing', inplace=True)"
]
}, {
"cell_type": "code", "execution_count": 86, "metadata": {
"ExecuteTime": {
"end_time": "2021-02-09T05:04:36.459237Z", "start_time": "2021-02-09T05:04:36.368238Z" }
}, "outputs": [
{
"data": {
"text/plain": [ "Missing 59976\n", "No 9460\n", "Yes 754\n", "Name: pregnant, dtype: int64"
]
}, "execution_count": 86, "metadata": {}, "output_type": "execute_result" }
],"source": [ "# Checking column values\n", "demo_clean.pregnant.value_counts(dropna=False)"
]
}, {
"cell_type": "code", "execution_count": 87, "metadata": {
"ExecuteTime": {
"end_time": "2021-02-09T05:04:36.955237Z", "start_time": "2021-02-09T05:04:36.861236Z" }
}, "outputs": [], "source": [ "# Filling in the names of the values for the birth place column\n", "demo_clean['birth_place'].replace({1.000:'USA', \n", " 2.000:'Mexico', \n", " 3.000:'Elsewhere', \n", " 4.000:'Other Spanish Country', \n", " 5.000:'Other Non Spanish Country',\n", " 7.000:'Missing', \n", " 9.000:'Missing',\n", " 77.000:'Missing', \n", " 99.000:'Missing'}, \n", " inplace=True)\n", "# Filling null values as missing\n", "demo_clean['birth_place'].fillna('Missing', inplace=True)"
]
}, {
"cell_type": "code", "execution_count": 88, "metadata": {
"ExecuteTime": {
"end_time": "2021-02-09T05:04:37.442324Z", "start_time": "2021-02-09T05:04:37.348322Z" }
}, "outputs": [
{
"data": {
"text/plain": [ "USA 56698\n", "Mexico 10686\n", "Other Spanish Country 1120\n", "Other Non Spanish Country 1065\n", "Elsewhere 588\n",
"Missing 33\n", "Name: birth_place, dtype: int64"
]
}, "execution_count": 88, "metadata": {}, "output_type": "execute_result" }
],"source": [ "# Checking column values\n", "demo_clean.birth_place.value_counts(dropna=False)"
]
}, {
"cell_type": "code", "execution_count": 89, "metadata": {
"ExecuteTime": {
"end_time": "2021-02-09T05:04:37.930236Z", "start_time": "2021-02-09T05:04:37.840238Z" }
}, "outputs": [], "source": [ "# Filling in the names of the values for the veteran column\n", "demo_clean['veteran'].replace({1.000:'Yes', \n", " 2.000:'No', \n", " 7.000:'Missing', \n", " 9.000:'Missing',\n", " 0.000:'Missing'}, \n", " inplace=True)"
]
}, {
"cell_type": "code", "execution_count": 90, "metadata": {
"ExecuteTime": {
"end_time": "2021-02-09T05:04:38.419305Z", "start_time": "2021-02-09T05:04:38.332321Z" }
}, "outputs": [
{
"data": {
"text/plain": [ "No 38920\n", "Missing 26846\n", "Yes 4424\n",
"Name: veteran, dtype: int64"
]
}, "execution_count": 90, "metadata": {}, "output_type": "execute_result" }
],"source": [ "# Checking column values\n", "demo_clean.veteran.value_counts(dropna=False)"
]
}, {
"cell_type": "code", "execution_count": 91, "metadata": {
"ExecuteTime": {
"end_time": "2021-02-09T05:04:38.897236Z", "start_time": "2021-02-09T05:04:38.813320Z" }
}, "outputs": [], "source": [ "# Fixing the values of the household income column\n", "demo_clean['household_income'].replace({12.000: 5, \n", " 13.000: 4,\n", " 14.000: 11,\n", " 15.000: 12,\n", " 77.000: 0, \n", " 99.000: 0}, \n", " inplace=True)\n", "# Casting the household income column as int type\n", "demo_clean['household_income'] = demo_clean['household_income'].astype('int64')"
]
}, {
"cell_type": "code", "execution_count": 92, "metadata": {
"ExecuteTime": {
"end_time": "2021-02-09T05:04:39.391281Z", "start_time": "2021-02-09T05:04:39.310239Z" }
}, "outputs": [
{
"data": {
"text/plain": [ "12 9126\n",
"6 8250\n", "5 7694\n", "11 7366\n", "7 6493\n", "4 5688\n", "8 5232\n", "3 4660\n", "9 3956\n", "0 3809\n", "10 3240\n", "2 2858\n", "1 1818\n", "Name: household_income, dtype: int64"
]
}, "execution_count": 92, "metadata": {}, "output_type": "execute_result" }
],"source": [ "# Checking column values\n", "demo_clean.household_income.value_counts(dropna=False)"
]
}, {
"cell_type": "code", "execution_count": 93, "metadata": {
"ExecuteTime": {
"end_time": "2021-02-09T05:04:39.900239Z", "start_time": "2021-02-09T05:04:39.790318Z" }
}, "outputs": [
{
"data": {
"text/plain": [ "gender 0\n", "age 0\n", "race 0\n", "citizenship 0\n", "education_level 0\n", "marital_status 0\n", "household_size 0\n", "pregnant 0\n", "birth_place 0\n", "veteran 0\n", "household_income 0\n", "dtype: int64"
]
}, "execution_count": 93, "metadata": {}, "output_type": "execute_result" }
],"source": [ "# Checking that all null values were filled\n", "demo_clean.isna().sum()"
]
}, {
"cell_type": "code", "execution_count": 94, "metadata": {
"ExecuteTime": {
"end_time": "2021-02-09T05:04:40.415236Z", "start_time": "2021-02-09T05:04:40.288237Z" }
}, "outputs": [
{
"name": "stdout", "output_type": "stream", "text": [ "<class 'pandas.core.frame.DataFrame'>\n", "Int64Index: 70190 entries, 31127 to 102956\n", "Data columns (total 11 columns):\n", " # Column Non-Null Count Dtype \n", "--- ------ -------------- ----- \n", " 0 gender 70190 non-null int64 \n", " 1 age 70190 non-null int64 \n", " 2 race 70190 non-null object\n", " 3 citizenship 70190 non-null object\n", " 4 education_level 70190 non-null int64 \n", " 5 marital_status 70190 non-null object\n", " 6 household_size 70190 non-null int64 \n", " 7 pregnant 70190 non-null object\n", " 8 birth_place 70190 non-null object\n", " 9 veteran 70190 non-null object\n", " 10 household_income 70190 non-null int64 \n", "dtypes: int64(5), object(6)\n", "memory usage: 6.4+ MB\n"
]
}
],"source": [ "# Checking columns\n", "demo_clean.info()"
]
}, {
"cell_type": "markdown", "metadata": {}, "source": [ "# Medical Conditions"
]
}, {
"cell_type": "markdown", "metadata": {}, "source": [ "The files gathered for this medical conditions data can be found on the NHANES website:
https://wwwn.cdc.gov/nchs/nhanes/default.aspx. The exact files can be downloaded for each
year group by selecting the year, choosing \"Questionnaire Data\", and clicking the link for
the XPT file next to \"Medical Conditions\". Each column name can be looked up using the
\"Search Variables\" tool on the NHANES website to see what the data represents."
]
}, {
"cell_type": "code", "execution_count": 95, "metadata": {
"ExecuteTime": {
"end_time": "2021-02-09T05:04:49.365635Z", "start_time": "2021-02-09T05:04:48.036550Z" }
}, "outputs": [
{
"data": {
"text/plain": [ "['Data/Conditions\\\\MCQ_D.XPT',\n", " 'Data/Conditions\\\\MCQ_E.XPT',\n", " 'Data/Conditions\\\\MCQ_F.XPT',\n", " 'Data/Conditions\\\\MCQ_G.XPT',\n", " 'Data/Conditions\\\\MCQ_H.XPT',\n", " 'Data/Conditions\\\\MCQ_I.XPT',\n", " 'Data/Conditions\\\\MCQ_J.XPT']"
]
}, "metadata": {}, "output_type": "display_data" }
],"source": [ "# Combining all the files for the medical conditions information\n", "path = r'Data/Conditions'\n", "df_medcond = pf.glob_concat(path, '*.XPT')"
]
}, {
"cell_type": "code", "execution_count": 96, "metadata": {
"ExecuteTime": {
"end_time": "2021-02-09T05:04:49.592549Z", "start_time": "2021-02-09T05:04:49.368552Z" }
}, "outputs": [
{
"data": {
"text/html": [ "<div>\n", "<style scoped>\n", " .dataframe tbody tr th:only-of-type {\n", " vertical-align: middle;\n", " }\n", "\n", " .dataframe tbody tr th {\n", " vertical-align: top;\n", " }\n", "\n", " .dataframe thead th {\n", " text-align: right;\n", " }\n", "</style>\n", "<table border” }
